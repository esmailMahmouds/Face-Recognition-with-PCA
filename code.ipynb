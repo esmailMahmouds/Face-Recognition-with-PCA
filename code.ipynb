{
 "cells": [
  {
   "cell_type": "markdown",
   "metadata": {},
   "source": [
    "### Imports"
   ]
  },
  {
   "cell_type": "code",
   "execution_count": null,
   "metadata": {},
   "outputs": [],
   "source": [
    "import numpy as np\n",
    "import matplotlib.pyplot as plt"
   ]
  },
  {
   "cell_type": "markdown",
   "metadata": {},
   "source": [
    "### Preprocessing"
   ]
  },
  {
   "cell_type": "code",
   "execution_count": null,
   "metadata": {},
   "outputs": [],
   "source": [
    "def read_image_file(path):\n",
    "    with open(path, \"rb\") as f:\n",
    "        data = f.read()\n",
    "        num_cols = int(data[3:5])\n",
    "        num_rows = int(data[6:9])\n",
    "        parsed = np.frombuffer(data, dtype=np.uint8, offset=14)\n",
    "        return np.array(parsed).reshape(num_rows, num_cols)"
   ]
  },
  {
   "cell_type": "code",
   "execution_count": null,
   "metadata": {},
   "outputs": [],
   "source": [
    "# visaulize 8th individual\n",
    "id = 8\n",
    "plt.figure(figsize=(8,8))\n",
    "for j in range(1,11):\n",
    "    img = read_image_file(f\"faces/s{id}/{j}.pgm\")\n",
    "    plt.subplot(4, 5, j)\n",
    "    plt.axis('off')\n",
    "    plt.imshow(img, cmap='gray')"
   ]
  },
  {
   "cell_type": "code",
   "execution_count": null,
   "metadata": {},
   "outputs": [],
   "source": [
    "# visaulize 1st image of all individuals \n",
    "plt.figure(figsize=(40,40))\n",
    "for id in range(1,41):\n",
    "    img = read_image_file(f\"faces/s{id}/{1}.pgm\")\n",
    "    plt.subplot(10,10,id)\n",
    "    plt.axis('off')\n",
    "    plt.imshow(img, cmap='gray')\n",
    "plt.tight_layout()\n",
    "plt.show()"
   ]
  },
  {
   "cell_type": "code",
   "execution_count": null,
   "metadata": {},
   "outputs": [],
   "source": [
    "# 1-40 individuals, 10 images each, each image is 112x92\n",
    "\n",
    "# Data Matrix\n",
    "D = np.empty((0, 112*92), dtype=float) # number of images [rows] x number of pixels [columns]\n",
    "# label vector\n",
    "y = np.array([], dtype=int)\n",
    "\n",
    "for id in range(1, 41):\n",
    "    for j in range(1, 11):\n",
    "        img = read_image_file(f\"faces/s{id}/{j}.pgm\")\n",
    "        D = np.vstack((D, img.reshape(1, -1).astype(float)))\n",
    "        y = np.append(y,id)\n",
    "\n",
    "# shape of Data Matrix and label vector\n",
    "print(D.shape, y.shape)"
   ]
  },
  {
   "cell_type": "code",
   "execution_count": null,
   "metadata": {},
   "outputs": [],
   "source": [
    "# splitting dataset into training and testing sets\n",
    "odd_rows = np.array([i % 2 != 0 for i in range(400)]) \n",
    "\n",
    "# odds rows for taining set\n",
    "D_train = D[odd_rows]\n",
    "y_train = y[odd_rows]\n",
    "\n",
    "# even rows for testing set\n",
    "D_test = D[~ odd_rows]\n",
    "y_test = y[~ odd_rows]\n",
    "\n",
    "# shapes of resulting dataset\n",
    "print(D_train.shape, y_train.shape)\n",
    "print(D_test.shape, y_test.shape)"
   ]
  },
  {
   "cell_type": "markdown",
   "metadata": {},
   "source": [
    "### PCA Implementation"
   ]
  },
  {
   "cell_type": "code",
   "execution_count": null,
   "metadata": {},
   "outputs": [],
   "source": [
    "class PCA():\n",
    "    def __init__(self, Data):\n",
    "\n",
    "        self.CenteredData = Data - np.mean(Data, axis=0)\n",
    "        self.calc_eig()\n",
    "\n",
    "    def project(self, alpha=0.85):\n",
    "        \"\"\"\n",
    "        Project the data into the PCA space.\n",
    "        :param alpha: The percentage of variance to be explained.\n",
    "        :return: The projected data.\n",
    "        \"\"\"\n",
    "        # check if alpha is between 0 and 1\n",
    "        if alpha < 0 or alpha > 1:\n",
    "            raise ValueError(\"alpha must be between 0 and 1\")\n",
    "\n",
    "        # count PCs from aplha\n",
    "        num_components = self.count_num_components(alpha)\n",
    "\n",
    "        # get projection matrix with num_components\n",
    "        projection_mat = self.eigen_vectors[:,:num_components]\n",
    "\n",
    "        # compute projected data\n",
    "        return self.CenteredData @ projection_mat\n",
    "    \n",
    "    def calc_eig(self):\n",
    "        \"\"\"\n",
    "        Calculate the eigenvalues and eigenvectors of the covariance matrix.\n",
    "        :return: The sorted eigenvalues and eigenvectors.\n",
    "        \"\"\"\n",
    "        # covariance matrix\n",
    "        cov_mat = np.cov(self.CenteredData, rowvar=False)\n",
    "\n",
    "        # eigenvalues and eigenvectors\n",
    "        self.eigen_values, self.eigen_vectors = np.linalg.eigh(cov_mat) \n",
    "\n",
    "        # sort indices\n",
    "        sort_idx = np.argsort(self.eigen_values)[::-1]\n",
    "        self.eigen_values  = self.eigen_values[sort_idx]\n",
    "        self.eigen_vectors = self.eigen_vectors[:, sort_idx]\n",
    "\n",
    "    def count_num_components(self, alpha):\n",
    "        \"\"\"\n",
    "        Count the number of components needed to explain a certain percentage of variance.\n",
    "        :param alpha: The percentage of variance to be explained.\n",
    "        :return: The number of components needed.\n",
    "        \"\"\"\n",
    "        total_var = np.sum(self.eigen_values)\n",
    "        cumvar = np.cumsum(self.eigen_values) / total_var\n",
    "\n",
    "        num_components = np.searchsorted(cumvar, alpha) + 1\n",
    "        return num_components"
   ]
  },
  {
   "cell_type": "code",
   "execution_count": null,
   "metadata": {},
   "outputs": [],
   "source": [
    "pca = PCA(D_train)\n",
    "# eigen values\n",
    "eigen_values = pca.eigen_values\n",
    "# eigen vectors\n",
    "eigen_vectors = pca.eigen_vectors\n",
    "\n",
    "print(f\"Eigen values shape: {eigen_values.shape}\")\n",
    "print(f\"Eigen vectors shape: {eigen_vectors.shape}\")"
   ]
  },
  {
   "cell_type": "code",
   "execution_count": null,
   "metadata": {},
   "outputs": [],
   "source": [
    "# PCA with different aplhas\n",
    "alphas = [.8, .85, .9, .95]\n",
    "# D_projections {alpha: projected_data} \n",
    "D_projections = {}\n",
    "\n",
    "for alpha in alphas:\n",
    "    D_projections[alpha] = pca.project(alpha)\n",
    "    print(f\"Dimensions at alpha= {alpha} : {D_projections[alpha].shape}\")"
   ]
  },
  {
   "cell_type": "code",
   "execution_count": null,
   "metadata": {},
   "outputs": [],
   "source": [
    "# reconstruct images of some samples with different number of components\n",
    "sample_faces = [0, 5]\n",
    "num_components = [10, 50, 100, 150, 200]\n",
    "reconstruct_images = {}\n",
    "j = 0\n",
    "for  k in sample_faces:\n",
    "    for i in num_components:\n",
    "        img = D_train[k] @ (eigen_vectors[:,:i] @ eigen_vectors[:,:i].T) + np.mean(D_train, axis=0)\n",
    "        reconstruct_images[(k,i)] = img\n",
    "        j = j + 1"
   ]
  },
  {
   "cell_type": "code",
   "execution_count": null,
   "metadata": {},
   "outputs": [],
   "source": [
    "# visaulize reconstucted faces in PCA space\n",
    "plt.figure(figsize=(10,10))\n",
    "j = 1\n",
    "for key, img in reconstruct_images.items():\n",
    "        plt.subplot(5,5,j)\n",
    "        plt.axis('off')\n",
    "        plt.title(f\"sample face {key[0]+1}\\n{key[1]} components\",fontsize=10)\n",
    "        plt.imshow(img.reshape(112,92), cmap='gray')\n",
    "        j = j + 1\n",
    "plt.tight_layout()"
   ]
  },
  {
   "cell_type": "code",
   "execution_count": null,
   "metadata": {},
   "outputs": [],
   "source": [
    "# Display the Eigenfaces with tup 10 eigen values\n",
    "plt.figure(figsize=(20, 20))\n",
    "for i in range(10):\n",
    "    plt.subplot(4, 5, i + 1)\n",
    "    plt.axis('off')\n",
    "    plt.imshow(eigen_vectors[:, i].reshape(112, 92), cmap='gray')\n",
    "    plt.title(f\"Eigenface {i + 1} ({eigen_values[i]:.2f})\")\n",
    "plt.tight_layout()\n",
    "plt.show()"
   ]
  }
 ],
 "metadata": {
  "kernelspec": {
   "display_name": "Python 3",
   "language": "python",
   "name": "python3"
  },
  "language_info": {
   "codemirror_mode": {
    "name": "ipython",
    "version": 3
   },
   "file_extension": ".py",
   "mimetype": "text/x-python",
   "name": "python",
   "nbconvert_exporter": "python",
   "pygments_lexer": "ipython3",
   "version": "3.10.11"
  }
 },
 "nbformat": 4,
 "nbformat_minor": 2
}
