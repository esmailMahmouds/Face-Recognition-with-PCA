{
 "cells": [
  {
   "cell_type": "markdown",
   "metadata": {},
   "source": [
    "### Imports"
   ]
  },
  {
   "cell_type": "code",
   "execution_count": null,
   "metadata": {},
   "outputs": [],
   "source": [
    "import numpy as np\n",
    "import pandas as pd\n",
    "import matplotlib.pyplot as plt"
   ]
  },
  {
   "cell_type": "markdown",
   "metadata": {},
   "source": [
    "### Preprocessing"
   ]
  },
  {
   "cell_type": "code",
   "execution_count": null,
   "metadata": {},
   "outputs": [],
   "source": [
    "def read_image_file(path):\n",
    "    with open(path, \"rb\") as f:\n",
    "        data = f.read()\n",
    "        num_cols = int(data[3:5])\n",
    "        num_rows = int(data[6:9])\n",
    "        parsed = np.frombuffer(data, dtype=np.uint8, offset=14)\n",
    "        return np.array(parsed).reshape(num_rows, num_cols)"
   ]
  },
  {
   "cell_type": "code",
   "execution_count": null,
   "metadata": {},
   "outputs": [],
   "source": [
    "# visaulize images of id = 6\n",
    "id = 5\n",
    "plt.figure(figsize=(8,8))\n",
    "for j in range(10):\n",
    "    img = read_image_file(f\"faces/s{id+1}/{j+1}.pgm\")\n",
    "    plt.subplot(5,5,(j+1))\n",
    "    plt.axis('off')\n",
    "    plt.imshow(img, cmap='gray')\n"
   ]
  },
  {
   "cell_type": "code",
   "execution_count": null,
   "metadata": {},
   "outputs": [],
   "source": [
    "# visaulize images 1 of all ids \n",
    "j = 0\n",
    "plt.figure(figsize=(40,40))\n",
    "for id in range(40):\n",
    "    img = read_image_file(f\"faces/s{id+1}/{j+1}.pgm\")\n",
    "    plt.subplot(10,10,id+1)\n",
    "    plt.axis('off')\n",
    "    plt.imshow(img, cmap='gray')"
   ]
  },
  {
   "cell_type": "code",
   "execution_count": null,
   "metadata": {},
   "outputs": [],
   "source": [
    "# generating Data Matrix\n",
    "D = np.array([0]*92*112, dtype=int) # int or float ??\n",
    "y = np.array([], dtype=int)\n",
    "\n",
    "for i in range(40):\n",
    "    for j in range(10):\n",
    "        img = read_image_file(f\"faces/s{i+1}/{j+1}.pgm\")\n",
    "        img = img.reshape(-1)\n",
    "        D = np.vstack((D, img))\n",
    "        y = np.append(y,i+1)\n",
    "D = np.delete(D, 0, axis=0)\n",
    "\n",
    "# shape of Data Matrix and label vector\n",
    "print(D.shape, y.shape)"
   ]
  },
  {
   "cell_type": "code",
   "execution_count": null,
   "metadata": {},
   "outputs": [],
   "source": [
    "# splitting dataset into training and testing sets\n",
    "odd_rows = np.array([i % 2 != 0 for i in range(400)]) \n",
    "\n",
    "# odds rows for taining set\n",
    "D_train = D[odd_rows]\n",
    "y_train = y[odd_rows]\n",
    "\n",
    "# even rows for testing set\n",
    "D_test = D[~ odd_rows]\n",
    "y_test = y[~ odd_rows]\n",
    "\n",
    "# shapes of resulting dataset\n",
    "print(D_train.shape, y_train.shape)\n",
    "print(D_test.shape, y_test.shape)\n"
   ]
  },
  {
   "cell_type": "markdown",
   "metadata": {},
   "source": [
    "### PCA Implementation"
   ]
  },
  {
   "cell_type": "code",
   "execution_count": null,
   "metadata": {},
   "outputs": [],
   "source": [
    "class PCA():\n",
    "    def __init__(self, alpha):\n",
    "        self.alpha = alpha\n",
    "\n",
    "    def project(self, D):\n",
    "        # center the data matrix and get Cov matrix\n",
    "        D = D - np.mean(D, axis=0)\n",
    "        cov_mat = np.cov(np.transpose(D), bias=True)\n",
    "\n",
    "        # get sorted eigen values, eigen vectors of cov_mat\n",
    "        eigen_values, eigen_vectors = self.get_sorted_eig(cov_mat)\n",
    "        # count PCs from aplha\n",
    "        num_PCs = self.count_PCs(eigen_values)\n",
    "\n",
    "        # get projection matrix with num_PCs\n",
    "        projection_mat = eigen_vectors[:,:num_PCs]\n",
    "        # compute projected data\n",
    "        return np.dot(D, projection_mat)\n",
    "\n",
    "    def get_sorted_eig(self, cov_mat):\n",
    "        eigen_values, eigen_vectors = np.linalg.eigh(cov_mat) \n",
    "\n",
    "        sort_indices = np.flip(np.argsort(eigen_values))\n",
    "\n",
    "        eigen_values = np.sort(eigen_values)[::-1]\n",
    "        eigen_vectors = eigen_vectors[:, sort_indices] \n",
    "        \n",
    "        return eigen_values, eigen_vectors\n",
    "\n",
    "    def count_PCs(self, eigen_values):\n",
    "        n = 1\n",
    "        while True:\n",
    "            var_explained =  sum(eigen_values[:n]) / sum(eigen_values)\n",
    "            if (var_explained >= self.alpha):\n",
    "                break\n",
    "            n = n + 1\n",
    "        \n",
    "        return n\n"
   ]
  }
 ],
 "metadata": {
  "kernelspec": {
   "display_name": "Python 3",
   "language": "python",
   "name": "python3"
  },
  "language_info": {
   "codemirror_mode": {
    "name": "ipython",
    "version": 3
   },
   "file_extension": ".py",
   "mimetype": "text/x-python",
   "name": "python",
   "nbconvert_exporter": "python",
   "pygments_lexer": "ipython3",
   "version": "3.10.11"
  }
 },
 "nbformat": 4,
 "nbformat_minor": 2
}
